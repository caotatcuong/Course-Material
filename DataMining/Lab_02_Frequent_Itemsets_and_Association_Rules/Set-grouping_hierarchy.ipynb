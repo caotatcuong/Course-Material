{
 "cells": [
  {
   "cell_type": "code",
   "execution_count": 16,
   "metadata": {},
   "outputs": [],
   "source": [
    "import pandas as pd\n",
    "\n",
    "df = pd.read_csv (r'churn.csv')\n",
    "\n",
    "df['Total Extra Calls'] = df['Intl Calls'] + df['VMail Message'] \n",
    "df['Total Base Calls'] = df['Day Calls'] + df['Eve Calls'] + df['Night Calls']\n",
    "\n",
    "#Swap Churn? and Total Base Calls\n",
    "cols = list(df.columns)\n",
    "a, b = cols.index('Churn?'), cols.index('Total Base Calls')\n",
    "cols[b], cols[a] = cols[a], cols[b]\n",
    "df = df[cols]\n",
    "\n",
    "df.to_csv ('churn_Set-grouping_hierarchy.csv',index=False)"
   ]
  }
 ],
 "metadata": {
  "kernelspec": {
   "display_name": "Python 3",
   "language": "python",
   "name": "python3"
  },
  "language_info": {
   "codemirror_mode": {
    "name": "ipython",
    "version": 3
   },
   "file_extension": ".py",
   "mimetype": "text/x-python",
   "name": "python",
   "nbconvert_exporter": "python",
   "pygments_lexer": "ipython3",
   "version": "3.7.6"
  }
 },
 "nbformat": 4,
 "nbformat_minor": 4
}
