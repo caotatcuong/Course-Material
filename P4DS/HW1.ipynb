{
 "cells": [
  {
   "cell_type": "markdown",
   "id": "961ca8fd",
   "metadata": {},
   "source": [
    "# HW1: Các câu lệnh Linux, Python\n",
    "\n",
    "(Cập nhật lần cuối: 27/04/2021)\n",
    "\n",
    "Họ tên: Cao Tất Cường\n",
    "\n",
    "MSSV: 18120296"
   ]
  },
  {
   "cell_type": "markdown",
   "id": "2b7ddc88",
   "metadata": {},
   "source": [
    "---"
   ]
  },
  {
   "cell_type": "markdown",
   "id": "dd850218",
   "metadata": {},
   "source": [
    "## Cách làm bài và nộp bài"
   ]
  },
  {
   "cell_type": "markdown",
   "id": "0bd4154a",
   "metadata": {},
   "source": [
    "&#9889; Bạn lưu ý là mình sẽ dùng chương trình hỗ trợ chấm bài nên bạn cần phải tuân thủ chính xác qui định mà mình đặt ra, nếu không rõ thì hỏi, chứ không nên tự tiện làm theo ý của cá nhân.\n",
    "\n",
    "**Cách làm bài**\n",
    "\n",
    "Bạn sẽ làm trực tiếp trên file notebook này. Đầu tiên, bạn điền họ tên và MSSV vào phần đầu file ở bên trên. Trong file, bạn làm bài ở những chỗ có ghi là:\n",
    "```python\n",
    "# YOUR CODE HERE\n",
    "raise NotImplementedError()\n",
    "```\n",
    "hoặc đối với những phần code không bắt buộc thì là:\n",
    "```python\n",
    "# YOUR CODE HERE (OPTION)\n",
    "```\n",
    "hoặc đối với markdown cell thì là:\n",
    "```markdown\n",
    "YOUR ANSWER HERE\n",
    "```\n",
    "Tất nhiên, khi làm thì bạn xóa dòng `raise NotImplementedError()` đi.\n",
    "Đối những phần yêu cầu code thì thường ở ngay phía dưới sẽ có một (hoặc một số) cell chứa các bộ test để giúp bạn biết đã code đúng hay chưa; nếu chạy cell này không có lỗi gì thì có nghĩa là qua được các bộ test. Trong một số trường hợp, các bộ test có thể sẽ không đầy đủ; nghĩa là, nếu không qua được test thì là code sai, nhưng nếu qua được test thì chưa chắc đã đúng hoàn toàn.\n",
    "\n",
    "Trong khi làm bài, bạn có thể cho in ra màn hình, tạo thêm các cell để test. Nhưng khi nộp bài thì bạn xóa các cell mà bạn tự tạo, xóa hoặc comment các câu lệnh in ra màn hình. Bạn lưu ý <font color=red>không được tự tiện xóa các cell hay sửa code của Thầy</font> (trừ những chỗ được phép sửa như đã nói ở trên).\n",
    "\n",
    "Bạn cố gắng giữ cho code rõ ràng, ngăn nắp: đặt tên biến gợi ý, comment ở những chỗ cần comment, giữ cho một dòng code không quá dài (vì nếu không thì người đọc sẽ phải mất công scroll, bạn có thể dùng qui tắc: một dòng code chỉ nên có tối đa là 79 ký tự). \n",
    "\n",
    "Trong khi làm bài, thường xuyên `Ctrl + S` để lưu lại bài làm của bạn, tránh mất mát thông tin.\n",
    "\n",
    "\n",
    "*Nên nhớ mục tiêu chính ở đây là <font color=green>học, học một cách chân thật</font>. Bạn có thể thảo luận ý tưởng với bạn khác, nhưng <font color=green>code và bài làm phải là của bạn, dựa trên sự hiểu thật sự của bạn</font>. <font color=red>Nếu vi phạm thì sẽ bị 0 điểm cho toàn bộ môn học.</font>*\n",
    "\n",
    "**Cách nộp bài**\n",
    "\n",
    "Khi chấm bài, đầu tiên mình sẽ chọn `Kernel` - `Restart & Run All` để restart và chạy tất cả các cell trong notebook của bạn; do đó, trước khi nộp bài, bạn nên chạy thử `Kernel` - `Restart & Run All` để đảm bảo mọi chuyện diễn ra đúng như mong đợi.\n",
    "\n",
    "Sau đó, bạn tạo thư mục nộp bài theo cấu trúc sau:\n",
    "- Thư mục `MSSV` (vd, nếu bạn có MSSV là 1234567 thì bạn đặt tên thư mục là `1234567`)\n",
    "    - File `HW1.ipynb` (không cần nộp các file khác)\n",
    "\n",
    "Cuối cùng, bạn nén thư mục `MSSV` này lại và nộp ở link trên moodle. <font color=red>Bạn lưu ý tuân thủ chính xác qui định nộp bài.</font>"
   ]
  },
  {
   "cell_type": "markdown",
   "id": "96b6bb75",
   "metadata": {},
   "source": [
    "---"
   ]
  },
  {
   "cell_type": "markdown",
   "id": "ef309250",
   "metadata": {},
   "source": [
    "## Môi trường code"
   ]
  },
  {
   "cell_type": "markdown",
   "id": "e8f7be5b",
   "metadata": {},
   "source": [
    "Ta thống nhất trong môn này:\n",
    "- Code trên môi trường Linux (bạn đã setup ở HW0)\n",
    "- Dùng Jupyter Notebook hoặc Jupyter Lab để code file .ipynb. Lưu ý: bạn <font color=red>không dùng Google Colab</font>, vì Google Colab có thể xóa một số thông tin meta mà chương trình hỗ trợ chấm bài của mình đã tạo trong file bài tập\n",
    "- Dùng phiên bản các package như trong file \"p4ds-env.yml\". Lưu ý: file này đã được cập nhật so với bản đầu tiên mà mình up lên moodle; cụ thể là:\\\n",
    "(i) Phiên bản Python được cập nhật từ 3.9.2 thành 3.8.8 (lý do: bản 3.9.2 mới quá nên không tương thích với package hỗ trợ chấm bài của mình)\\\n",
    "(ii) Bổ sung package [nbdime](https://nbdime.readthedocs.io/en/latest/) - package giúp Git có thể diff và merge file Notebook một cách phù hợp\\\n",
    "Bạn xem cách dùng Conda để tạo môi trường code từ file .yml trong file slide \"06-PythonP3_Conda.pdf\"; trong file slide này mình cũng có bổ sung cách cập nhật môi trường code khi file .yml được cập nhật."
   ]
  },
  {
   "cell_type": "code",
   "execution_count": 1,
   "id": "e8d3110a",
   "metadata": {},
   "outputs": [
    {
     "name": "stdout",
     "output_type": "stream",
     "text": [
      "/home/cuong/anaconda3/envs/p4ds-env/bin/python\r\n"
     ]
    }
   ],
   "source": [
    "!which python "
   ]
  },
  {
   "cell_type": "markdown",
   "id": "1eabd78a",
   "metadata": {},
   "source": [
    "Nếu không có vấn đề gì thì file chạy python sẽ là file của môi trường code \"p4ds-env\".\n",
    "\n",
    "Trong bài này, ngoài Git & Jupyter Notebook/Lab thì bạn chỉ dùng Python, không dùng các thư viện khác như Numpy, Pandas, ... Trong Python, khi đọc/ghi file csv thì bạn cũng không được dùng các thư viện hỗ trợ như thư viện `csv`."
   ]
  },
  {
   "cell_type": "markdown",
   "id": "301ef90c",
   "metadata": {},
   "source": [
    "---"
   ]
  },
  {
   "cell_type": "markdown",
   "id": "f1283738",
   "metadata": {},
   "source": [
    "## Import các thư viện cần thiết"
   ]
  },
  {
   "cell_type": "code",
   "execution_count": 2,
   "id": "2a8a7c5a",
   "metadata": {},
   "outputs": [],
   "source": [
    "import datetime\n",
    "# YOUR CODE HERE (OPTION)"
   ]
  },
  {
   "cell_type": "markdown",
   "id": "a94131a3",
   "metadata": {},
   "source": [
    "---"
   ]
  },
  {
   "cell_type": "markdown",
   "id": "87ba40b3",
   "metadata": {},
   "source": [
    "## Thu thập dữ liệu (3.5đ)"
   ]
  },
  {
   "cell_type": "markdown",
   "id": "b467902c",
   "metadata": {},
   "source": [
    "Trong bài tập này, bạn sẽ lấy dữ liệu log của [thùng chứa nbdime](https://github.com/KienTrann/nbdime). Nbdime là công cụ giúp Git có thể diff và merge file Notebook một cách phù hợp (thay vì chỉ coi như là một file text thông thường). Link mình cung cấp không phải là link đến thùng chứa gốc của nbdime mà là thùng chứa mình \"fork\" (đại khái là tạo ra một bản copy) từ thùng chứa gốc. Lý do: mình muốn cố định lại dữ liệu log để có thể cung cấp các bộ test để bạn phần nào biết là đã code đúng hay chưa (còn nếu dùng thùng chứa gốc thì dữ liệu log có thể sẽ thay đổi trong vài ngày tới, các bộ test lúc đó có thể sẽ không còn đúng nữa).\n",
    "\n",
    "Để có thể lấy dữ liệu log thì việc đầu tiên bạn cần làm là: \n",
    "\n",
    "- Dùng câu lệnh Git để clone thùng chứa về; bạn clone vào một thư mục cùng cấp với file notebook này. \n",
    "- Sau đó, để xem thử thư mục vừa clone có nặng không, bạn tính dung lượng tổng cộng của thư mục này và lưu vào biến `repo_size` (`repo_size` là một con số, đơn vị là MB); ta thống nhất: (i) dùng cờ `apparent-size` khi dùng câu lệnh `du`, (ii) code chỉ cần chạy đúng với thùng chứa cụ thể này. <font color=gray>Gợi ý: trong Jupyter Notebook, bạn có thể gán kết quả của câu lệnh Linux vào biến Python.</font>"
   ]
  },
  {
   "cell_type": "code",
   "execution_count": 3,
   "id": "a0845aae",
   "metadata": {
    "deletable": false,
    "nbgrader": {
     "cell_type": "code",
     "checksum": "f9d6621381f8d838d952e28da52f9eea",
     "grade": true,
     "grade_id": "cell-5984c6f1d3bb0311",
     "locked": false,
     "points": 0.5,
     "schema_version": 3,
     "solution": true,
     "task": false
    }
   },
   "outputs": [
    {
     "data": {
      "text/plain": [
       "9.8"
      ]
     },
     "execution_count": 3,
     "metadata": {},
     "output_type": "execute_result"
    }
   ],
   "source": [
    "# YOUR CODE HERE\n",
    "import json\n",
    "repo_size = !du -sh --apparent-size nbdime\n",
    "repo_size = float(repo_size.nlstr[:3].replace(',', '.'))\n",
    "repo_size\n",
    "# Thầy HDTH với mình có test thử thì có máy ra 9.7, có máy ra 9.8\n",
    "# (có thể là do phiên bản của câu lệnh du?)"
   ]
  },
  {
   "cell_type": "markdown",
   "id": "25d25251",
   "metadata": {},
   "source": [
    "Sau khi đã clone thùng chứa về, việc kế tiếp của bạn là dùng các câu lệnh Linux (trong đó có các câu lệnh Git) và Python để lấy dữ liệu log rồi lưu xuống file \"log.tsv\" (định dạng tsv tương tự như csv nhưng các giá trị được cách nhau bởi tab). Để dễ hình dung, bạn có thể dùng Jupyter Lab để mở xem file kết quả đúng \"correct_log.tsv\" mà mình cung cấp. Như bạn có thể thấy, mỗi dòng ứng với một commit (không tính dòng đầu - dòng chứa các tên cột) và gồm các thông tin:\n",
    "- \"Id\" là id (hash) dạng viết gọn của commit\n",
    "- \"ParentIds\" là id dạng viết gọn của (các) commit cha\n",
    "- \"AuthorName\" là tên của tác giả\n",
    "- \"AuthorEmail\" là email của tác giả\n",
    "- \"AuthorDate\" là ngày tác giả thực hiện commit, ngày được format theo chuẩn RFC2822 (xem phần gợi ý ở bên dưới để biết cách lấy ngày theo format này) \n",
    "- \"Subject\" là tựa đề của message (message tương tự như email, ngoài phần \"subject\" thì có thể có thêm phần \"body\"; ở đây ta chỉ lấy phần \"subject\")\n",
    "- \"ChangedFiles\": các file bị thay đổi, nếu có nhiều file thì các file được phân tách bởi dấu phẩy\n",
    "\n",
    "Tại sao mình dùng định dạng tsv thay vì csv? Vì dấu phẩy nhiều khả năng là sẽ có trong phần \"subject\" của message. Tab ít khả năng sẽ có hơn, nhưng nếu có thì bạn hãy thay bằng bốn khoảng trắng.\n",
    "\n",
    "<font color=gray>Gợi ý cho phần này:</font> \n",
    "- <font color=gray>Bạn có thể xem thêm về câu lệnh `git log` [ở đây](https://git-scm.com/book/en/v2/Git-Basics-Viewing-the-Commit-History)</font>\n",
    "- <font color=gray>Khi ở Notebook, bạn thử `cd` đến thư mục clone rồi `pwd` xem? Kết quả như vậy là vì khi thực hiện một dòng lệnh Linux ở Notebook thì Notebook sẽ tạo ra một terminal tạm thời để thực thi dòng lệnh đó trong phút chốc. Như vậy, câu lệnh `cd` vẫn là có `cd` đến thư mục clone nhưng là ở terminal tạm thời; khi câu lệnh `cd` chạy xong thì terminal tạm thời này sẽ được đóng và ta vẫn ở thư mục mà hiện chứa file Notebook. Để có thể `cd` rồi `pwd` thì một cách là ghi 2 câu lệnh này trên một dòng và cách nhau bởi `&&`; lúc này thì cả 2 câu lệnh sẽ được thực thi trên cùng một terminal</font>"
   ]
  },
  {
   "cell_type": "code",
   "execution_count": 4,
   "id": "938b091c",
   "metadata": {
    "deletable": false,
    "nbgrader": {
     "cell_type": "code",
     "checksum": "55b0b31d2d3104224a68b2c60ac4fccf",
     "grade": false,
     "grade_id": "cell-7a31931ee1dd0b8b",
     "locked": false,
     "schema_version": 3,
     "solution": true,
     "task": false
    }
   },
   "outputs": [],
   "source": [
    "# YOUR CODE HERE\n",
    "prettyFormart = !(cd nbdime/ && git log --pretty=format:\"%h\\t%p\\t%an\\t%ae\\t%aD\\t%s\\t\")\n",
    "changeFiles = !(cd nbdime/ && git log --name-only --pretty=format:)\n",
    "result=[]\n",
    "changeFiles = list(changeFiles)\n",
    "i = 0\n",
    "while i < len(changeFiles):\n",
    "    if changeFiles[i] == '':\n",
    "        result.append('')\n",
    "        i = i+1\n",
    "        continue\n",
    "        \n",
    "    for j in range(i+1, len(changeFiles)):\n",
    "        if changeFiles[j] == '':\n",
    "            result.append(','.join(changeFiles[i:j]))\n",
    "            i = j\n",
    "            break\n",
    "        if j == len(changeFiles) - 1:\n",
    "            result.append(','.join(changeFiles[i:]))\n",
    "            i = j\n",
    "    i = i + 1\n",
    "    \n",
    "for i in range(len(result)):\n",
    "    if result[i] != '':\n",
    "        prettyFormart[i] = prettyFormart[i] + result[i]\n",
    "\n",
    "header = \"Id\\tParentIds\\tAuthorName\\tAuthorEmail\\tAuthorDate\\tSubject\\tChangedFiles\\n\" \n",
    "dataLog = header + '\\n'.join(prettyFormart).replace('\\\\t','\\t') +'\\n'\n",
    "\n",
    "file = open('log.tsv', 'w')\n",
    "file.write(dataLog)\n",
    "file.close()"
   ]
  },
  {
   "cell_type": "code",
   "execution_count": 5,
   "id": "a06953ae",
   "metadata": {
    "deletable": false,
    "editable": false,
    "nbgrader": {
     "cell_type": "code",
     "checksum": "0423c7b3167b4b74060cf441d2dc344b",
     "grade": true,
     "grade_id": "cell-1671c3f106d5da7d",
     "locked": true,
     "points": 3,
     "schema_version": 3,
     "solution": false,
     "task": false
    }
   },
   "outputs": [],
   "source": [
    "# TEST\n",
    "file = open('log.tsv', 'r')\n",
    "log = file.read()\n",
    "file.close()\n",
    "file = open('correct_log.tsv', 'r')\n",
    "correct_log = file.read()\n",
    "file.close()\n",
    "assert log == correct_log"
   ]
  },
  {
   "cell_type": "markdown",
   "id": "4e021a54",
   "metadata": {},
   "source": [
    "---"
   ]
  },
  {
   "cell_type": "markdown",
   "id": "27190536",
   "metadata": {},
   "source": [
    "## Khám phá dữ liệu"
   ]
  },
  {
   "cell_type": "markdown",
   "id": "77769de4",
   "metadata": {},
   "source": [
    "### Dữ liệu có bao nhiêu dòng và bao nhiêu cột? (0.5đ)"
   ]
  },
  {
   "cell_type": "markdown",
   "id": "33304fb8",
   "metadata": {},
   "source": [
    "Đầu tiên, bạn sẽ đọc dữ liệu từ file \"log.tsv\" (nếu phần thu thập dữ liệu bạn làm chưa đúng thì bạn có thể đọc từ file \"correct_log.tsv\" mà mình đã cung cấp). Bạn lưu kết quả đọc được vào biến `log`. Biến `log` là một dictionary, trong đó mỗi phần tử ứng với một cột, key là chuỗi ứng với tên cột, value là list chứa các giá trị của cột (mỗi giá trị bạn cứ tạm để kiểu dữ liệu là chuỗi).\n",
    "\n",
    "Kế tiếp, từ biến `log`, bạn sẽ tính số dòng và số cột, rồi lần lượt lưu vào hai biến là `num_rows` và `num_cols`."
   ]
  },
  {
   "cell_type": "code",
   "execution_count": 6,
   "id": "45be83bd",
   "metadata": {
    "deletable": false,
    "nbgrader": {
     "cell_type": "code",
     "checksum": "2129a14a7289ce808929d5a67e787a07",
     "grade": false,
     "grade_id": "cell-f2f6dbf283e0ccee",
     "locked": false,
     "schema_version": 3,
     "solution": true,
     "task": false
    }
   },
   "outputs": [],
   "source": [
    "# YOUR CODE HERE\n",
    "file = open('log.tsv', 'r')\n",
    "\n",
    "cols = {}\n",
    "first_line_vals = file.readline().rstrip().split('\\t')\n",
    "for first_line_val in first_line_vals:\n",
    "    cols[first_line_val] = []\n",
    "    \n",
    "for line in file:\n",
    "    line_vals = line.replace('\\n','').split('\\t')\n",
    "    for i in range(len(line_vals)):        \n",
    "        col_name = first_line_vals[i] \n",
    "        col_val = line_vals[i]\n",
    "        cols[col_name].append(col_val)\n",
    "        \n",
    "file.close()\n",
    "num_rows = len(cols['Id'])\n",
    "num_cols = len(cols.keys())"
   ]
  },
  {
   "cell_type": "code",
   "execution_count": 7,
   "id": "33df3ba6",
   "metadata": {
    "deletable": false,
    "editable": false,
    "nbgrader": {
     "cell_type": "code",
     "checksum": "b8aeec5e8bb7d4402d3ade6077db687d",
     "grade": true,
     "grade_id": "cell-cae77558e0985b8d",
     "locked": true,
     "points": 0.5,
     "schema_version": 3,
     "solution": false,
     "task": false
    }
   },
   "outputs": [],
   "source": [
    "# TEST\n",
    "assert num_rows == 1928\n",
    "assert num_cols == 7\n",
    "assert set(cols.keys()) == set(['Id', 'ParentIds', 'AuthorName', \n",
    "                                'AuthorEmail', 'AuthorDate', 'Subject', \n",
    "                                'ChangedFiles'])\n",
    "id_col_len = len(cols['Id'])\n",
    "for col_name in cols:\n",
    "    assert len(cols[col_name]) == id_col_len"
   ]
  },
  {
   "cell_type": "markdown",
   "id": "632cd9a4",
   "metadata": {},
   "source": [
    "### Mỗi dòng có ý nghĩa gì? Có vấn đề các dòng có ý nghĩa khác nhau không?"
   ]
  },
  {
   "cell_type": "markdown",
   "id": "a9acfe72",
   "metadata": {},
   "source": [
    "Mỗi dòng ứng với một commit. Có vẻ không có dòng nào \"lạc loài\" (nghĩa là không có vấn đề các dòng có ý nghĩa khác nhau)."
   ]
  },
  {
   "cell_type": "markdown",
   "id": "a1b4aa0f",
   "metadata": {},
   "source": [
    "### Dữ liệu có các dòng bị lặp không? (0.25đ)"
   ]
  },
  {
   "cell_type": "markdown",
   "id": "e841e9fb",
   "metadata": {},
   "source": [
    "Có lẽ là không có. Để chắc ăn thì một cách là ta có thể check cột \"Id\"; nếu cột \"Id\" không có giá trị bị lặp thì có thể kết luận là không có dòng bị lặp. Bạn sẽ làm vụ này và lưu kết quả check vào biến `duplicated_id`; biến này bằng True nếu cột \"Id\" có giá trị lặp và bằng False nếu ngược lại."
   ]
  },
  {
   "cell_type": "code",
   "execution_count": 8,
   "id": "5ee6b063",
   "metadata": {
    "deletable": false,
    "nbgrader": {
     "cell_type": "code",
     "checksum": "1a76647c83c980ad5211ae3face16788",
     "grade": false,
     "grade_id": "cell-31e053e964e6c9eb",
     "locked": false,
     "schema_version": 3,
     "solution": true,
     "task": false
    }
   },
   "outputs": [],
   "source": [
    "# YOUR CODE HERE\n",
    "duplicated_id = len(set(cols['Id'])) != num_rows"
   ]
  },
  {
   "cell_type": "code",
   "execution_count": 9,
   "id": "6e8f0da0",
   "metadata": {
    "deletable": false,
    "editable": false,
    "nbgrader": {
     "cell_type": "code",
     "checksum": "42bf24e55c7bd536e139c6244328b218",
     "grade": true,
     "grade_id": "cell-ab5957518b489fa7",
     "locked": true,
     "points": 0.25,
     "schema_version": 3,
     "solution": false,
     "task": false
    }
   },
   "outputs": [],
   "source": [
    "# TEST\n",
    "assert duplicated_id == False"
   ]
  },
  {
   "cell_type": "markdown",
   "id": "5ec0abed",
   "metadata": {},
   "source": [
    "### Mỗi cột có ý nghĩa gì?"
   ]
  },
  {
   "cell_type": "markdown",
   "id": "20b3acf9",
   "metadata": {},
   "source": [
    "Vụ này mình đã nói lúc thu thập dữ liệu. Ở đây, mình ghi lại một lần nữa:\n",
    "\n",
    "- \"Id\" là id (hash) dạng viết gọn của commit\n",
    "- \"ParentIds\" là id dạng viết gọn của (các) commit cha\n",
    "- \"AuthorName\" là tên của tác giả\n",
    "- \"AuthorEmail\" là email của tác giả\n",
    "- \"AuthorDate\" là ngày tác giả thực hiện commit\n",
    "- \"Subject\" là tựa đề của message (message tương tự như email, ngoài phần \"subject\" thì có thể có thêm phần \"body\"; ở đây ta chỉ lấy phần \"subject\")\n",
    "- \"ChangedFiles\": các file bị thay đổi, nếu có nhiều file thì các file được phân tách bởi dấu phẩy"
   ]
  },
  {
   "cell_type": "markdown",
   "id": "7a2b1701",
   "metadata": {},
   "source": [
    "### Mỗi cột hiện đang có kiểu dữ liệu gì? Có cột nào có kiểu dữ liệu chưa phù hợp để có thể xử lý tiếp không?"
   ]
  },
  {
   "cell_type": "markdown",
   "id": "c4f93355",
   "metadata": {},
   "source": [
    "- Các cột \"Id\", \"ParentIds\", \"AuthorName\", \"AuthorEmail\", \"Subject\": kiểu dữ liệu dạng chuỗi là đúng rồi\n",
    "- Cột \"ChangedFiles\": hmm ... có lẽ tạm thời ta vẫn để dạng chuỗi, có gì cần thì ta sẽ xử lý sau\n",
    "- Cột \"AuthorDate\": cần chuyển từ kiểu dữ liệu dạng chuỗi sang datetime; để có thể tiếp tục khám phá tiếp thì ngay sau đây bạn sẽ tiền xử lý vụ này luôn"
   ]
  },
  {
   "cell_type": "markdown",
   "id": "20b4603c",
   "metadata": {},
   "source": [
    "---"
   ]
  },
  {
   "cell_type": "markdown",
   "id": "0f70da39",
   "metadata": {},
   "source": [
    "## Tiền xử lý (0.5đ)"
   ]
  },
  {
   "cell_type": "markdown",
   "id": "65882cde",
   "metadata": {},
   "source": [
    "Ở đây, bạn sẽ chuyển cột \"AuthorDate\" từ dạng chuỗi sang datetime. <font color=gray>Gợi ý: bạn xem [document](https://docs.python.org/3/library/datetime.html#strftime-and-strptime-format-codes) để biết cách truyền format phù hợp cho hàm `strptime`.</font>"
   ]
  },
  {
   "cell_type": "code",
   "execution_count": 10,
   "id": "0b38c915",
   "metadata": {
    "deletable": false,
    "nbgrader": {
     "cell_type": "code",
     "checksum": "758261b3f6045b402f5abb5f4b080bb4",
     "grade": false,
     "grade_id": "cell-742e74182a9d1936",
     "locked": false,
     "schema_version": 3,
     "solution": true,
     "task": false
    }
   },
   "outputs": [],
   "source": [
    "# YOUR CODE HERE\n",
    "for i in range(len(cols['AuthorDate'])):\n",
    "    cols['AuthorDate'][i] = datetime.datetime.strptime(cols['AuthorDate'][i], '%a, %d %b %Y %H:%M:%S %z')"
   ]
  },
  {
   "cell_type": "code",
   "execution_count": 11,
   "id": "e567bc85",
   "metadata": {
    "deletable": false,
    "editable": false,
    "nbgrader": {
     "cell_type": "code",
     "checksum": "5eca1fcb2e213809282e22ef9e6c8dfe",
     "grade": true,
     "grade_id": "cell-c551b6a15162bb10",
     "locked": true,
     "points": 0.5,
     "schema_version": 3,
     "solution": false,
     "task": false
    }
   },
   "outputs": [],
   "source": [
    "# TEST\n",
    "assert type(cols['AuthorDate'][0]) == datetime.datetime\n",
    "assert cols['AuthorDate'][0] == datetime.datetime(2021, 4, 20, 12, 27, 9, \n",
    "            tzinfo=datetime.timezone(datetime.timedelta(seconds=3600)))"
   ]
  },
  {
   "cell_type": "markdown",
   "id": "8d52d79d",
   "metadata": {},
   "source": [
    "---"
   ]
  },
  {
   "cell_type": "markdown",
   "id": "23df97a4",
   "metadata": {},
   "source": [
    "## Khám phá dữ liệu (tiếp tục)"
   ]
  },
  {
   "cell_type": "markdown",
   "id": "fda00b99",
   "metadata": {},
   "source": [
    "### Với mỗi cột có kiểu dữ liệu dạng số (numeric) và dạng datetime, các giá trị được phân bố như thế nào? (0.5đ)"
   ]
  },
  {
   "cell_type": "markdown",
   "id": "f78a1ad4",
   "metadata": {},
   "source": [
    "Ở đây thì không có cột dạng số, chỉ có một cột dạng datetime là cột \"AuthorDate\".\n",
    "\n",
    "Đầu tiên, bạn tính tỉ lệ % các giá trị thiếu của cột \"AuthorDate\". <font color=gray>Gợi ý: không cần code, có thể lập luận dựa vào kết quả khi chuyển cột \"AuthorDate\" từ dạng chuỗi sang datetime ở bên trên.</font>"
   ]
  },
  {
   "cell_type": "markdown",
   "id": "da07f1be",
   "metadata": {
    "deletable": false,
    "nbgrader": {
     "cell_type": "markdown",
     "checksum": "0d29851ae39f01d9ed0d34f4891a918b",
     "grade": true,
     "grade_id": "cell-47e2584daf9dda74",
     "locked": false,
     "points": 0.25,
     "schema_version": 3,
     "solution": true,
     "task": false
    }
   },
   "source": [
    "YOUR ANSWER HERE\n",
    "\n",
    "Ta thấy khi chuyển cột `AuthorDate` từ dạng chuỗi sang datetime thì không xảy ra lỗi format ở hàm `strptime` nên tỉ lệ % các giá trị thiếu của cột `AuthorDate` bằng 0%"
   ]
  },
  {
   "cell_type": "markdown",
   "id": "b5b8767e",
   "metadata": {},
   "source": [
    "Tiếp theo, bạn tính min và max của cột \"AuthorDate\", rồi lần lượt lưu vào hai biến `author_date_min` và `author_date_max`."
   ]
  },
  {
   "cell_type": "code",
   "execution_count": 12,
   "id": "3a5cc030",
   "metadata": {
    "deletable": false,
    "nbgrader": {
     "cell_type": "code",
     "checksum": "5abe340e46e2811a6fa8c3fea2bf7dd6",
     "grade": false,
     "grade_id": "cell-ed5647763d70e921",
     "locked": false,
     "schema_version": 3,
     "solution": true,
     "task": false
    }
   },
   "outputs": [],
   "source": [
    "# YOUR CODE HERE\n",
    "author_date_min = min(cols['AuthorDate'])\n",
    "author_date_max = max(cols['AuthorDate'])"
   ]
  },
  {
   "cell_type": "code",
   "execution_count": 13,
   "id": "1beed495",
   "metadata": {
    "deletable": false,
    "editable": false,
    "nbgrader": {
     "cell_type": "code",
     "checksum": "c7fd8957fa8f92f3f85288d8cc249fba",
     "grade": true,
     "grade_id": "cell-8bb55737a75c0a6e",
     "locked": true,
     "points": 0.25,
     "schema_version": 3,
     "solution": false,
     "task": false
    }
   },
   "outputs": [],
   "source": [
    "# TEST\n",
    "assert author_date_min == datetime.datetime(2015, 11, 9, 13, 13, 28, \n",
    "            tzinfo=datetime.timezone(datetime.timedelta(seconds=3600)))\n",
    "assert author_date_max == datetime.datetime(2021, 4, 20, 12, 27, 9, \n",
    "            tzinfo=datetime.timezone(datetime.timedelta(seconds=3600)))"
   ]
  },
  {
   "cell_type": "markdown",
   "id": "b8a2db90",
   "metadata": {},
   "source": [
    "Hmm ... Min và max của cột \"AuthorDate\" không có gì bất thường."
   ]
  },
  {
   "cell_type": "markdown",
   "id": "79d2b3e7",
   "metadata": {},
   "source": [
    "### Với mỗi cột có kiểu dữ liệu dạng phân loại (categorical), các giá trị được phân bố như thế nào? (1.75đ)"
   ]
  },
  {
   "cell_type": "markdown",
   "id": "55a0786f",
   "metadata": {},
   "source": [
    "Các cột dạng phân loại là các cột mà không phải là cột \"AuthorDate\". Bạn sẽ lưu thông tin của các cột này vào biến `cate_col_profiles`. Biến này là một dictionary, trong đó mỗi phần tử ứng với một cột dạng phân loại, key là tên cột, value là list gồm: tỉ lệ % giá trị thiếu, số lượng các giá trị khác nhau (không tính giá trị thiếu), set chứa các giá trị khác nhau (không bao gồm giá trị thiếu)."
   ]
  },
  {
   "cell_type": "code",
   "execution_count": 14,
   "id": "cf876956",
   "metadata": {
    "deletable": false,
    "nbgrader": {
     "cell_type": "code",
     "checksum": "3317a65ff1cce4222cc0a63602dcaef9",
     "grade": false,
     "grade_id": "cell-d9eb895996d7b157",
     "locked": false,
     "schema_version": 3,
     "solution": true,
     "task": false
    }
   },
   "outputs": [],
   "source": [
    "# YOUR CODE HERE\n",
    "cate_col_profiles = {}\n",
    "for key in cols.keys():\n",
    "    if key != 'AuthorDate':\n",
    "        cate_col_profiles[key] = []\n",
    "        temp = 0    \n",
    "        for val in cols[key]:\n",
    "            if val == '':\n",
    "                temp = temp + 1\n",
    "        cate_col_profiles[key].append(temp / num_rows * 100)\n",
    "        set_val = set(cols[key])\n",
    "        if '' in set_val:\n",
    "            set_val.remove('')\n",
    "        cate_col_profiles[key].append(len(set_val))\n",
    "        cate_col_profiles[key].append(set_val)"
   ]
  },
  {
   "cell_type": "code",
   "execution_count": 15,
   "id": "13a1695d",
   "metadata": {
    "deletable": false,
    "editable": false,
    "nbgrader": {
     "cell_type": "code",
     "checksum": "53f116101747d9d3c845e486cb8ab2e8",
     "grade": true,
     "grade_id": "cell-50123f76f79e1f27",
     "locked": true,
     "points": 1,
     "schema_version": 3,
     "solution": false,
     "task": false
    }
   },
   "outputs": [],
   "source": [
    "# TEST\n",
    "assert set(cate_col_profiles.keys()) == {'AuthorEmail', 'AuthorName', \n",
    "                                         'ChangedFiles', 'Id', \n",
    "                                         'ParentIds', 'Subject'}\n",
    "for col_name, col_profile in cate_col_profiles.items():\n",
    "    assert len(col_profile) == 3\n",
    "    assert len(col_profile[2]) == col_profile[1]\n",
    "assert round(cate_col_profiles['ParentIds'][0], 3) == 0.052\n",
    "assert round(cate_col_profiles['ChangedFiles'][0], 3) == 16.079\n",
    "assert cate_col_profiles['ParentIds'][1] == 1820\n",
    "assert cate_col_profiles['ChangedFiles'][1] == 842"
   ]
  },
  {
   "cell_type": "code",
   "execution_count": 16,
   "id": "3c0661e3",
   "metadata": {},
   "outputs": [
    {
     "name": "stdout",
     "output_type": "stream",
     "text": [
      "ColName      Miss(%) NumDifVals SomeVals\n",
      "Id           0.000   1928       {'ae4a41d', 'b691ab5', 'b8f4735', ...\n",
      "ParentIds    0.052   1820       {'ae4a41d', 'b691ab5', 'b8f4735', ...\n",
      "AuthorName   0.000   34         {'Lionel Miller', 'Min RK', 'Frédé...\n",
      "AuthorEmail  0.000   34         {'florian.rathgeber@gmail.com', 'p...\n",
      "Subject      0.000   1860       {'Split decisions on cell source a...\n",
      "ChangedFiles 16.079  842        {'packages/labextension/src/plugin...\n"
     ]
    }
   ],
   "source": [
    "# TEST (BY EYES)\n",
    "print(f\"{'ColName':12} {'Miss(%)':7} {'NumDifVals':10} {'SomeVals'}\")\n",
    "for col_name, col_profile in cate_col_profiles.items():\n",
    "    print(f'{col_name:12} {col_profile[0]:<7.3f} {col_profile[1]:<10} {col_profile[2].__repr__()[:34]+\"...\":<}')"
   ]
  },
  {
   "cell_type": "markdown",
   "id": "c6dc8f79",
   "metadata": {},
   "source": [
    "Bạn quan sát kết quả in ra ở trên (tạm thời chưa để ý đến cột \"Miss(%)\") và cho biết có gì bất thường không? Hay mọi thứ đều bình thường? Cho mình biết tại sao bạn lại kết luận như vậy."
   ]
  },
  {
   "cell_type": "markdown",
   "id": "76489078",
   "metadata": {
    "deletable": false,
    "nbgrader": {
     "cell_type": "markdown",
     "checksum": "6b4e0ea35fa2498c8ca58017183e5ca7",
     "grade": true,
     "grade_id": "cell-88055a6ed4991805",
     "locked": false,
     "points": 0.25,
     "schema_version": 3,
     "solution": true,
     "task": false
    }
   },
   "source": [
    "YOUR ANSWER HERE\n",
    "\n",
    "Em thấy kết quả in ra bình thường không có vấn đề gì cả cột `Id` tất các các giá trị đều khác nhau là tất nhiên, cột `ParentIds` có giá trị trùng lặp vì nhiều commit có thể có cùng 1 cha, cột `AuthorName`, `AuthorEmail` đều có 34 giá trị khác nhau chứng tỏ mỗi người dùng 1 email riêng, cột `Subject` có giá trị trùng lăp có thể là do có những câu commit phổ biến nên bị trùng, cột `ChangedFiles` có giá trị trùng lặp do có thể có nhiều commit sửa cùng các file như nhau."
   ]
  },
  {
   "cell_type": "markdown",
   "id": "787e63ca",
   "metadata": {},
   "source": [
    "Kế tiếp, bạn hãy cho in ra các dòng mà có giá trị thiếu (in sao là tùy bạn, miễn là dễ nhìn). Sau đó, bạn hãy quan sát các dòng này để xem tại sao lại bị thiếu (trong trường hợp, bạn không biết tại sao thì cứ ghi nhận là không biết tại sao)."
   ]
  },
  {
   "cell_type": "code",
   "execution_count": 17,
   "id": "81b6e544",
   "metadata": {
    "deletable": false,
    "nbgrader": {
     "cell_type": "code",
     "checksum": "d1a9502c7c37ba7b6600579bec4e5627",
     "grade": true,
     "grade_id": "cell-fda56cd71a2bb407",
     "locked": false,
     "points": 0.25,
     "schema_version": 3,
     "solution": true,
     "task": false
    }
   },
   "outputs": [
    {
     "name": "stdout",
     "output_type": "stream",
     "text": [
      "Id      ParentIds       AuthorName:          AuthorEmail   AuthorDate  Subject               ChangedFiles        \n",
      "524aac2 2994fb4 e4e696c Vidar Tonaas Fauske  vidartf@gma... 2021-04-20  Merge pull request... \n",
      "ab8e60d f1e18ff 23e0cc9 Vidar Tonaas Fauske  vidartf@gma... 2021-04-14  Merge pull request... \n",
      "f1e18ff 52f7990 6c1ce97 Vidar Tonaas Fauske  vidartf@gma... 2021-04-14  Merge pull request... \n",
      "52f7990 8ce708c 25252f6 Vidar Tonaas Fauske  vidartf@gma... 2021-04-13  Merge pull request... \n",
      "8ce708c 4291b8c dea43d6 Vidar Tonaas Fauske  vidartf@gma... 2021-04-12  Merge pull request... \n",
      "075f502 2d1edb8 4291b8c Vidar Tonaas Fauske  vidartf@gma... 2021-04-11  Merge branch 'mast... \n",
      "4291b8c ab9f1bc 86c28f7 Vidar Tonaas Fauske  vidartf@gma... 2021-04-11  Merge pull request... \n",
      "ab9f1bc c823623 295e834 Vidar Tonaas Fauske  vidartf@gma... 2021-04-11  Merge pull request... \n",
      "fe2911a c38cfc5 25101fe Michał Krassowski    5832902+kra... 2021-03-07  Merge pull request... \n",
      "a0726e5 75363a0 8c52de8 Vidar Tonaas Fauske  vidartf@gma... 2021-01-14  Merge pull request... \n",
      "75363a0 f6beb60 206fee8 Vidar Tonaas Fauske  vidartf@gma... 2021-01-07  Merge pull request... \n",
      "f6beb60 92fc22d 4b1129b Vidar Tonaas Fauske  vidartf@gma... 2020-10-02  Merge pull request... \n",
      "77cac58 b707946 ca3b311 Vidar Tonaas Fauske  vidartf@gma... 2020-09-29  Merge pull request... \n",
      "b707946 141b2dc 598c072 Vidar Tonaas Fauske  vidartf@gma... 2020-09-29  Merge pull request... \n",
      "141b2dc 0f0a90a 4d2e319 Vidar Tonaas Fauske  vidartf@gma... 2020-09-29  Merge pull request... \n",
      "f259cae 8804407 eaf9c06 Vidar Tonaas Fauske  vidartf@gma... 2020-09-25  Merge pull request... \n",
      "eaf9c06 bf5a540 a20c789 Vidar Tonaas Fauske  vidartf@gma... 2020-09-25  Merge branch 'wip'... \n",
      "d330173 133c4bf 2cd6efe Vidar Tonaas Fauske  vidartf@gma... 2020-03-09  Merge pull request... \n",
      "133c4bf a9435d5 326da89 Vidar Tonaas Fauske  vidartf@gma... 2020-03-09  Merge pull request... \n",
      "a9435d5 a506b66 d4f8247 Vidar Tonaas Fauske  vidartf@gma... 2020-03-09  Merge pull request... \n",
      "a506b66 d067442 fed6e17 Min RK               benjaminrk@... 2020-03-06  Merge pull request... \n",
      "d067442 d9cbd7b 9b67c6c Vidar Tonaas Fauske  vidartf@gma... 2020-03-05  Merge pull request... \n",
      "d9cbd7b 425c46d f036d20 Vidar Tonaas Fauske  vidartf@gma... 2020-03-05  Merge pull request... \n",
      "425c46d 6259cd0 ce08ccf Min RK               benjaminrk@... 2020-01-23  Merge pull request... \n",
      "6259cd0 137182a 0dbe870 Vidar Tonaas Fauske  vidartf@gma... 2019-11-20  Merge pull request... \n",
      "137182a a9faba1 cd528a8 Vidar Tonaas Fauske  vidartf@gma... 2019-11-19  Merge pull request... \n",
      "a9faba1 cdadb44 e114af0 Vidar Tonaas Fauske  vidartf@gma... 2019-08-31  Merge pull request... \n",
      "cdadb44 ec065a7 0810fa3 Vidar Tonaas Fauske  vidartf@gma... 2019-08-07  Merge pull request... \n",
      "300067c 0590d1b b9d972e Vidar Tonaas Fauske  vidartf@gma... 2019-07-25  Merge pull request... \n",
      "0590d1b 1f864d2 c3c652e Vidar Tonaas Fauske  vidartf@gma... 2019-06-14  Merge pull request... \n",
      "fabbeb7 ba18b56 b75bfa7 Vidar Tonaas Fauske  vidartf@gma... 2019-05-16  Merge pull request... \n",
      "ba18b56 c2635db 0509d39 Vidar Tonaas Fauske  vidartf@gma... 2019-04-29  Merge pull request... \n",
      "8940d58 0910bcd 4f5cdde Vidar Tonaas Fauske  vidartf@gma... 2019-03-05  Merge pull request... \n",
      "0910bcd b8c7829 95fe0aa Vidar Tonaas Fauske  vidartf@gma... 2019-03-04  Merge pull request... \n",
      "b8c7829 91ac9bf 384acd9 Vidar Tonaas Fauske  vidartf@gma... 2019-03-04  Merge pull request... \n",
      "91ac9bf 31b716e 8e65719 Vidar Tonaas Fauske  vidartf@gma... 2019-03-01  Merge pull request... \n",
      "31b716e 07714c0 5ab35e7 Vidar Tonaas Fauske  vidartf@gma... 2019-03-01  Merge pull request... \n",
      "07714c0 435ce3b f79fd54 Min RK               benjaminrk@... 2019-02-28  Merge pull request... \n",
      "435ce3b d71758d 027145e Vidar Tonaas Fauske  vidartf@gma... 2019-02-18  Merge pull request... \n",
      "c24fc22 5a92521 93095de Vidar Tonaas Fauske  vidartf@gma... 2018-12-18  Merge pull request... \n",
      "5a92521 ed222a2 eac7bc6 Vidar Tonaas Fauske  vidartf@gma... 2018-11-19  Merge pull request... \n",
      "ed222a2 d44e3b5 b669e85 Vidar Tonaas Fauske  vidartf@gma... 2018-11-19  Merge pull request... \n",
      "abdde8f 20e07f4 58c5197 Vidar Tonaas Fauske  vidartf@gma... 2018-10-18  Merge pull request... \n",
      "d3a0962 60a93bc fefdbe5 Vidar Tonaas Fauske  vidartf@gma... 2018-10-08  Merge pull request... \n",
      "959ce75 98c3af9 091bdea Vidar Tonaas Fauske  vidartf@gma... 2018-10-05  Merge pull request... \n",
      "98c3af9 98bf4dc 9d36c6b Vidar Tonaas Fauske  vidartf@gma... 2018-09-27  Merge pull request... \n",
      "98bf4dc c968e6f ac9647b Vidar Tonaas Fauske  vidartf@gma... 2018-09-27  Merge pull request... \n",
      "c968e6f d070da0 0970ed3 Vidar Tonaas Fauske  vidartf@gma... 2018-09-14  Merge pull request... \n",
      "eef0e50 14137b6 c591417 Vidar Tonaas Fauske  vidartf@gma... 2018-09-03  Merge pull request... \n",
      "559bae6 039c821 7111b70 Vidar Tonaas Fauske  vidartf@gma... 2018-08-29  Merge pull request... \n",
      "fb6484a 3d7d95e 54cf807 Vidar Tonaas Fauske  vidartf@gma... 2018-08-16  Merge pull request... \n",
      "3fc3e9a a93b42c abc3939 Vidar Tonaas Fauske  vidartf@gma... 2018-07-31  Merge pull request... \n",
      "a93b42c 9cf252c 4605e25 Vidar Tonaas Fauske  vidartf@gma... 2018-07-31  Merge pull request... \n",
      "9cf252c fc1af0c ff9642c Vidar Tonaas Fauske  vidartf@gma... 2018-06-25  Merge pull request... \n",
      "fc1af0c 69585e7 229bd68 Vidar Tonaas Fauske  vidartf@gma... 2018-06-25  Merge pull request... \n",
      "220bc1f cf45e47 7df4bc8 Vidar Tonaas Fauske  vidartf@gma... 2018-06-19  Merge pull request... \n",
      "cf45e47 7748bd5 020a00d Vidar Tonaas Fauske  vidartf@gma... 2018-06-19  Merge pull request... \n",
      "7748bd5 a83fdb1 e39f5e7 Vidar Tonaas Fauske  vidartf@gma... 2018-06-19  Merge pull request... \n",
      "f0d66a6 0e47f41 035b3d6 Vidar Tonaas Fauske  vidartf@gma... 2018-06-18  Merge pull request... \n",
      "0e47f41 32df48a e675aa0 Vidar Tonaas Fauske  vidartf@gma... 2018-06-15  Merge pull request... \n",
      "32df48a f50d8e5 c8cfaa0 Vidar Tonaas Fauske  vidartf@gma... 2018-06-14  Merge pull request... \n",
      "f50d8e5 bf8da35 fa0590c Vidar Tonaas Fauske  vidartf@gma... 2018-06-13  Merge pull request... \n",
      "bf8da35 83976ac 4c2f423 Vidar Tonaas Fauske  vidartf@gma... 2018-06-13  Merge pull request... \n",
      "c30847b ef9d708 e18d8b6 Vidar Tonaas Fauske  vidartf@gma... 2018-06-11  Merge pull request... \n",
      "ef9d708 1bb9458 e67a71d Vidar Tonaas Fauske  vidartf@gma... 2018-06-11  Merge pull request... \n",
      "1bb9458 25878a5 151415d Vidar Tonaas Fauske  vidartf@gma... 2018-06-11  Merge pull request... \n",
      "25878a5 0234912 35309cd Vidar Tonaas Fauske  vidartf@gma... 2018-06-08  Merge pull request... \n",
      "0234912 e510209 8c614c0 Vidar Tonaas Fauske  vidartf@gma... 2018-06-08  Merge pull request... \n",
      "e510209 0e1c4d6 5371adc Vidar Tonaas Fauske  vidartf@gma... 2018-05-24  Merge pull request... \n",
      "1b332c8 ffaaf75 e96b96d Vidar Tonaas Fauske  vidartf@gma... 2018-05-15  Merge pull request... \n",
      "ffaaf75 28a436b 031c2dc Vidar Tonaas Fauske  vidartf@gma... 2018-05-14  Merge pull request... \n",
      "28a436b b7ececa 8ad275e Vidar Tonaas Fauske  vidartf@gma... 2018-05-14  Merge pull request... \n",
      "52e68c8 09ce7af 4b55685 Vidar Tonaas Fauske  vidartf@gma... 2018-05-08  Merge pull request... \n",
      "09ce7af bd9873c 0d197ea Vidar Tonaas Fauske  vidartf@gma... 2018-05-07  Merge pull request... \n",
      "bd9873c f330467 fdaf9c3 Vidar Tonaas Fauske  vidartf@gma... 2018-05-07  Merge pull request... \n",
      "f330467 789e5b4 ba00a8d Vidar Tonaas Fauske  vidartf@gma... 2018-05-04  Merge pull request... \n",
      "2656120 145efe3         Vidar Tonaas Fauske  vidartf@gma... 2018-05-03  nbdime-jupyterlab@... \n",
      "55d56ee d59a446 b58a9d8 Vidar Tonaas Fauske  vidartf@gma... 2018-05-02  Merge pull request... \n",
      "d59a446 14c7c0a 1e9d547 Vidar Tonaas Fauske  vidartf@gma... 2018-05-02  Merge pull request... \n",
      "e03c861 7914988 ae8f008 Vidar Tonaas Fauske  vidartf@gma... 2018-04-28  Merge pull request... \n",
      "7914988 0a60cdc 1d7b23d Vidar Tonaas Fauske  vidartf@gma... 2018-04-27  Merge pull request... \n",
      "0a60cdc 35c3c96 cbcc974 Vidar Tonaas Fauske  vidartf@gma... 2018-04-25  Merge pull request... \n",
      "e4b9dc6 66cc086 04af6c9 Vidar Tonaas Fauske  vidartf@gma... 2018-04-03  Merge pull request... \n",
      "670e8a0 12dd2ab fb5560a Vidar Tonaas Fauske  vidartf@gma... 2018-03-22  Merge pull request... \n",
      "77398e0 f16ecac 6277ec7 Min RK               benjaminrk@... 2018-03-22  Merge pull request... \n",
      "f16ecac 350f5ca 961c568 Vidar Tonaas Fauske  vidartf@gma... 2018-03-22  Merge pull request... \n",
      "350f5ca 8d6421d 0a8342c Vidar Tonaas Fauske  vidartf@gma... 2018-03-21  Merge pull request... \n",
      "8d6421d ac7358f 5c25fd0 Vidar Tonaas Fauske  vidartf@gma... 2018-03-21  Merge pull request... \n",
      "ac7358f 7c4b998 c155592 Vidar Tonaas Fauske  vidartf@gma... 2018-03-14  Merge pull request... \n",
      "7c4b998 c21fd7f 3dd98b6 Vidar Tonaas Fauske  vidartf@gma... 2018-03-14  Merge pull request... \n",
      "c21fd7f eac0417 c432a92 Vidar Tonaas Fauske  vidartf@gma... 2018-03-14  Merge pull request... \n",
      "eac0417 e019d4c 18525fa Vidar Tonaas Fauske  vidartf@gma... 2018-03-14  Merge pull request... \n",
      "e019d4c 05c5047 719f66a Vidar Tonaas Fauske  vidartf@gma... 2018-03-14  Merge pull request... \n",
      "05c5047 f0a36a1 fdf07ba Vidar Tonaas Fauske  vidartf@gma... 2018-03-14  Merge pull request... \n",
      "f0a36a1 344a450 6f54c3d Vidar Tonaas Fauske  vidartf@gma... 2018-02-27  Merge pull request... \n",
      "344a450 4022e8c 8a69ef3 Vidar Tonaas Fauske  vidartf@gma... 2018-01-08  Merge pull request... \n",
      "4022e8c f0284ac 461fd66 Min RK               benjaminrk@... 2018-01-03  Merge pull request... \n",
      "f0284ac ff6e1fd 588b9ab Vidar Tonaas Fauske  vidartf@gma... 2017-12-12  Merge pull request... \n",
      "2354345 f884858 8345baf Vidar Tonaas Fauske  vidartf@gma... 2017-11-29  Merge pull request... \n",
      "f884858 dfff8ff 92b5b0c Vidar Tonaas Fauske  vidartf@gma... 2017-11-28  Merge pull request... \n",
      "dfff8ff 7240999 e4a223d Vidar Tonaas Fauske  vidartf@gma... 2017-11-28  Merge pull request... \n",
      "7240999 d5a3b66 f883682 Vidar Tonaas Fauske  vidartf@gma... 2017-11-28  Merge pull request... \n",
      "d5a3b66 e81d466 0f13db4 Min RK               benjaminrk@... 2017-11-28  Merge pull request... \n",
      "e81d466 f7cedce 519db53 Min RK               benjaminrk@... 2017-11-27  Merge pull request... \n",
      "ce16aec c1a95e1 3bc3009 Min RK               benjaminrk@... 2017-11-10  Merge pull request... \n",
      "c1a95e1 cd5403a 380d246 Min RK               benjaminrk@... 2017-11-10  Merge pull request... \n",
      "06784cd 13d10af 333a696 Vidar Tonaas Fauske  vidartf@gma... 2017-11-08  Merge pull request... \n",
      "13d10af 31233af 8d21f14 Min RK               benjaminrk@... 2017-11-08  Merge pull request... \n",
      "31233af a70fc47 4ac94e0 Min RK               benjaminrk@... 2017-11-07  Merge pull request... \n",
      "a70fc47 3b51405 a51d525 Min RK               benjaminrk@... 2017-11-07  Merge pull request... \n",
      "85b9439 fd10644 512be11 Vidar Tonaas Fauske  vidartf@gma... 2017-11-06  Merge pull request... \n",
      "fd10644 7bb9fae 864add9 Vidar Tonaas Fauske  vidartf@gma... 2017-11-06  Merge pull request... \n",
      "7bb9fae a184e7e 56490f8 Vidar Tonaas Fauske  vidartf@gma... 2017-11-04  Merge pull request... \n",
      "a184e7e b0327b0 46f892e Min RK               benjaminrk@... 2017-11-01  Merge pull request... \n",
      "b0327b0 e9ba0e4 243c996 Vidar Tonaas Fauske  vidartf@gma... 2017-11-01  Merge pull request... \n",
      "e9ba0e4 cad565e 19aa64f Vidar Tonaas Fauske  vidartf@gma... 2017-11-01  Merge pull request... \n",
      "cad565e 4da3738 647284d Vidar Tonaas Fauske  vidartf@gma... 2017-11-01  Merge pull request... \n",
      "4da3738 a489683 d8ff107 Vidar Tonaas Fauske  vidartf@gma... 2017-10-31  Merge pull request... \n",
      "a489683 cfb7408 86abf32 Min RK               benjaminrk@... 2017-10-25  Merge pull request... \n",
      "cfb7408 bc93659 51787b0 Min RK               benjaminrk@... 2017-10-25  Merge pull request... \n",
      "bc93659 40dec01 4cdd49f Min RK               benjaminrk@... 2017-10-25  Merge pull request... \n",
      "40dec01 6c3e8bb d30d54c Vidar Tonaas Fauske  vidartf@gma... 2017-10-24  Merge pull request... \n",
      "6c3e8bb b384cd4 900e6b6 Min RK               benjaminrk@... 2017-08-18  Merge pull request... \n",
      "b384cd4 edfc38a 36e6b14 Min RK               benjaminrk@... 2017-08-08  Merge pull request... \n",
      "36e6b14 391f448 edfc38a Min RK               benjaminrk@... 2017-07-12  Merge branch 'mast... \n",
      "edfc38a 5f6c38f 6ed76ac Min RK               benjaminrk@... 2017-07-12  Merge pull request... \n",
      "852fd94 9540d0b f2a9f6e Vidar Tonaas Fauske  vidartf@gma... 2017-07-10  Merge pull request... \n",
      "9540d0b a7496a2 574ec67 Min RK               benjaminrk@... 2017-05-26  Merge pull request... \n",
      "a7496a2 41fd2d3 e03f7bd Vidar Tonaas Fauske  vidartf@gma... 2017-05-22  Merge pull request... \n",
      "b10078b 76df65e 3200656 Vidar Tonaas Fauske  vidartf@gma... 2017-05-05  Merge pull request... \n",
      "76df65e c2ee8eb 9002d56 Min RK               benjaminrk@... 2017-05-03  Merge pull request... \n",
      "393bd56 73f5f70 56d9ad2 Min RK               benjaminrk@... 2017-04-21  Merge pull request... \n",
      "73f5f70 c8f5544 a5f5423 Min RK               benjaminrk@... 2017-04-21  Merge pull request... \n",
      "c8f5544 1dbc671 99109dd Min RK               benjaminrk@... 2017-04-18  Merge pull request... \n",
      "1dbc671 2424bc4 10eae14 Min RK               benjaminrk@... 2017-04-11  Merge pull request... \n",
      "2424bc4 38b1502 d8894cb Vidar Tonaas Fauske  vidartf@gma... 2017-04-11  Merge pull request... \n",
      "38b1502 5762bc3 f17b9d6 Min RK               benjaminrk@... 2017-03-31  Merge pull request... \n",
      "5762bc3 2640b6d f65451c Min RK               benjaminrk@... 2017-03-31  Merge pull request... \n",
      "a18f1e8 eedd971 9f20c20 Min RK               benjaminrk@... 2017-03-18  Merge pull request... \n",
      "eedd971 a205d4a 2494ab3 Vidar Tonaas Fauske  vidartf@gma... 2017-03-14  Merge pull request... \n",
      "25909c8 4530423 b3575ea Min RK               benjaminrk@... 2017-02-23  Merge pull request... \n",
      "4530423 8f000c5 f1c8716 Min RK               benjaminrk@... 2017-02-23  Merge pull request... \n",
      "8f000c5 4bdc258 456ede9 Vidar Tonaas Fauske  vidartf@gma... 2017-02-21  Merge pull request... \n",
      "4bdc258 83ae911 d01cb4d Min RK               benjaminrk@... 2017-02-20  Merge pull request... \n",
      "83ae911 30a760b 1fe5d66 Min RK               benjaminrk@... 2017-02-20  Merge pull request... \n",
      "e64d9f7 352e8a5 024a9ec Min RK               benjaminrk@... 2017-02-17  Merge pull request... \n",
      "352e8a5 9e6f400 4880e52 Vidar Tonaas Fauske  vidartf@gma... 2017-02-16  Merge pull request... \n",
      "9e6f400 9c4f355 97774cc Vidar Tonaas Fauske  vidartf@gma... 2017-02-16  Merge pull request... \n",
      "9c4f355 804cea7 33f7686 Min RK               benjaminrk@... 2017-02-16  Merge pull request... \n",
      "804cea7 9531aa9 f0cf9a7 Min RK               benjaminrk@... 2017-02-16  Merge pull request... \n",
      "9531aa9 8e493b1 7593dac Min RK               benjaminrk@... 2017-02-16  Merge pull request... \n",
      "990fded 77982f9 46df21e Min RK               benjaminrk@... 2017-02-07  Merge pull request... \n",
      "46df21e ba3dbc9 77982f9 Min RK               benjaminrk@... 2017-02-07  Merge branch 'mast... \n",
      "77982f9 4ae79a8 b143270 Min RK               benjaminrk@... 2017-02-07  Merge pull request... \n",
      "4ae79a8 6d9aaec 3fba95f Min RK               benjaminrk@... 2017-02-07  Merge pull request... \n",
      "6d9aaec d08ceab 58282a4 Vidar Tonaas Fauske  vidartf@gma... 2017-02-01  Merge pull request... \n",
      "b9c3184 5c92cfb 568064a Vidar Tonaas Fauske  vidartf@gma... 2017-01-19  Merge pull request... \n",
      "5c92cfb 470eaf8 72561f2 Martin Sandve Alnæs  martinal@si... 2017-01-17  Merge pull request... \n",
      "65ced79 84e6cf3 712cf0d Min RK               benjaminrk@... 2017-01-09  Merge pull request... \n",
      "84e6cf3 823dfd6 0e7e023 Min RK               benjaminrk@... 2017-01-09  Merge pull request... \n",
      "823dfd6 b1454bc 92d2732 Min RK               benjaminrk@... 2017-01-09  Merge pull request... \n",
      "b1454bc 6bdacd4 1023e5f Vidar Tonaas Fauske  vidartf@gma... 2017-01-09  Merge pull request... \n",
      "6bdacd4 900b22e 910c419 Min RK               benjaminrk@... 2017-01-09  Merge pull request... \n",
      "900b22e 3df71d0 f967a60 Min RK               benjaminrk@... 2017-01-09  Merge pull request... \n",
      "3df71d0 361b2f1 eefebeb Min RK               benjaminrk@... 2017-01-06  Merge pull request... \n",
      "361b2f1 9bece08 b04db6c Vidar Tonaas Fauske  vidartf@gma... 2017-01-04  Merge pull request... \n",
      "9bece08 f311624 f808b7f Min RK               benjaminrk@... 2016-12-21  Merge pull request... \n",
      "f311624 5560090 00af346 Min RK               benjaminrk@... 2016-12-21  Merge pull request... \n",
      "5560090 941a4e1 96f6dd9 Min RK               benjaminrk@... 2016-12-21  Merge pull request... \n",
      "941a4e1 ad6ebdc eef6229 Min RK               benjaminrk@... 2016-12-20  Merge pull request... \n",
      "ad6ebdc 031b756 edec016 Min RK               benjaminrk@... 2016-12-20  Merge pull request... \n",
      "c032666 f384cd1 82416fe Min RK               benjaminrk@... 2016-12-16  Merge pull request... \n",
      "f384cd1 c9bde54 11bb052 Vidar Tonaas Fauske  vidartf@gma... 2016-12-16  Merge pull request... \n",
      "c9bde54 c1a0588 3d4fd8d Min RK               benjaminrk@... 2016-12-16  Merge pull request... \n",
      "c1a0588 874e618 cca0999 Min RK               benjaminrk@... 2016-12-16  Merge pull request... \n",
      "874e618 b691ab5 d569ff4 Martin Sandve Alnæs  martinal@si... 2016-12-15  Merge pull request... \n",
      "b691ab5 fafea8a 1aa270c Min RK               benjaminrk@... 2016-12-13  Merge pull request... \n",
      "fafea8a 7e63061 2a39bc3 Martin Sandve Alnæs  martinal@si... 2016-12-13  Merge pull request... \n",
      "7e63061 e7f1a48 f6c2ac5 Martin Sandve Alnæs  martinal@si... 2016-12-12  Merge pull request... \n",
      "e7f1a48 9a4f9f8 f8e29f2 Min RK               benjaminrk@... 2016-12-09  Merge pull request... \n",
      "9a4f9f8 cd2f57a 143d710 Min RK               benjaminrk@... 2016-12-09  Merge pull request... \n",
      "cd2f57a 26704cd 488467e Martin Sandve Alnæs  martinal@si... 2016-12-06  Merge pull request... \n",
      "26704cd e27869d 9d6f54c Min RK               benjaminrk@... 2016-12-06  Merge pull request... \n",
      "64571fb 8a3a8e4 169cf2b Martin Sandve Alnæs  martinal@si... 2016-12-06  Merge pull request... \n",
      "1ca93bf 0f9e801 13de864 Min RK               benjaminrk@... 2016-12-05  Merge pull request... \n",
      "0f9e801 52e7f16 7bf3900 Min RK               benjaminrk@... 2016-12-05  Merge pull request... \n",
      "52e7f16 b796d33 ede5771 Martin Sandve Alnæs  martinal@si... 2016-12-05  Merge pull request... \n",
      "b796d33 0aa75f8 f9211ef Vidar Tonaas Fauske  vidartf@gma... 2016-12-05  Merge pull request... \n",
      "bc69972 f3843ea 0aa75f8 Martin Sandve Alnæs  martinal@si... 2016-12-05  Merge branch 'mast... \n",
      "0aa75f8 da9b138 b7164ea Martin Sandve Alnæs  martinal@si... 2016-12-05  Merge pull request... \n",
      "da9b138 c8ff67e 5e70941 Min RK               benjaminrk@... 2016-12-05  Merge pull request... \n",
      "c8ff67e a8dc069 2118d96 Martin Sandve Alnæs  martinal@si... 2016-12-05  Merge pull request... \n",
      "8247775 20bcc2b a8dc069 Vidar Tonaas Fauske  vidartf@gma... 2016-12-03  Merge branch 'mast... \n",
      "a8dc069 938d0d6 14b59aa Carol Willing        carolcode@w... 2016-12-02  Merge pull request... \n",
      "938d0d6 cb2e3e7 cc02862 Carol Willing        carolcode@w... 2016-12-02  Merge pull request... \n",
      "cb2e3e7 a780dfa 4420cbd Min RK               benjaminrk@... 2016-12-02  Merge pull request... \n",
      "a780dfa 1d49827 a616bd3 Carol Willing        carolcode@w... 2016-12-02  Merge pull request... \n",
      "1d49827 5078eee 3c7553e Vidar Tonaas Fauske  vidartf@gma... 2016-12-02  Merge pull request... \n",
      "5078eee c375fe4 441a8be Martin Sandve Alnæs  martinal@si... 2016-12-02  Merge pull request... \n",
      "c375fe4 60bc309 4d88e5b Min RK               benjaminrk@... 2016-12-01  Merge pull request... \n",
      "60bc309 6ae471f 8e260e2 Martin Sandve Alnæs  martinal@si... 2016-12-01  Merge pull request... \n",
      "6ae471f fe4b29a 124246f Martin Sandve Alnæs  martinal@si... 2016-12-01  Merge pull request... \n",
      "fe4b29a 44ff95e 1e14732 Martin Sandve Alnæs  martinal@si... 2016-12-01  Merge pull request... \n",
      "44ff95e 43f8bcc 9fb94d5 Min RK               benjaminrk@... 2016-11-30  Merge pull request... \n",
      "43f8bcc ff7b295 1750a94 Vidar Tonaas Fauske  vidartf@gma... 2016-11-30  Merge pull request... \n",
      "ff7b295 b0d57d5 34c6528 Vidar Tonaas Fauske  vidartf@gma... 2016-11-30  Merge pull request... \n",
      "b0d57d5 5982dcd 5b0a3ad Vidar Tonaas Fauske  vidartf@gma... 2016-11-30  Merge pull request... \n",
      "5982dcd 2e520e7 dd3ff8b Vidar Tonaas Fauske  vidartf@gma... 2016-11-30  Merge pull request... \n",
      "2e520e7 d188aa0 e07b480 Min RK               benjaminrk@... 2016-11-30  Merge pull request... \n",
      "d188aa0 0d5a79c 5c074e9 Min RK               benjaminrk@... 2016-11-30  Merge pull request... \n",
      "0d5a79c 19d7375 8d16d54 Martin Sandve Alnæs  martinal@si... 2016-11-30  Merge pull request... \n",
      "19d7375 40979fa f7aed91 Martin Sandve Alnæs  martinal@si... 2016-11-30  Merge pull request... \n",
      "40979fa 854f22d b9575c2 Carol Willing        carolcode@w... 2016-11-29  Merge pull request... \n",
      "aeeb049 ad60f74 854f22d Vidar Tonaas Fauske  vidartf@gma... 2016-11-29  Merge branch 'mast... \n",
      "854f22d 5ea5cc1 5710527 Min RK               benjaminrk@... 2016-11-29  Merge pull request... \n",
      "5ea5cc1 dee5c9a 07ed1e8 Martin Sandve Alnæs  martinal@si... 2016-11-29  Merge pull request... \n",
      "dee5c9a ac153fc 624ad9f Carol Willing        carolcode@w... 2016-11-28  Merge pull request... \n",
      "ac153fc 8992557 3820591 Vidar Tonaas Fauske  vidartf@gma... 2016-11-28  Merge pull request... \n",
      "7b81637 6455178 22a2d90 Vidar Tonaas Fauske  vidartf@gma... 2016-11-28  Merge pull request... \n",
      "6455178 806239e f574f0f Vidar Tonaas Fauske  vidartf@gma... 2016-11-28  Merge pull request... \n",
      "806239e b20f4a1 95f3418 Martin Sandve Alnæs  martinal@si... 2016-11-28  Merge pull request... \n",
      "b20f4a1 9e4688d 794db98 Martin Sandve Alnæs  martinal@si... 2016-11-24  Merge pull request... \n",
      "9e4688d 773a7ba 8fee12e Martin Sandve Alnæs  martinal@si... 2016-11-22  Merge pull request... \n",
      "773a7ba 8bcf827 d62f826 Min RK               benjaminrk@... 2016-11-22  Merge pull request... \n",
      "8bcf827 ab3cc94 8e149e1 Vidar Tonaas Fauske  vidartf@gma... 2016-11-22  Merge pull request... \n",
      "ab3cc94 cb3f3a9 461e850 Martin Sandve Alnæs  martinal@si... 2016-11-21  Merge pull request... \n",
      "cb3f3a9 2b56e31 0fe5f56 Martin Sandve Alnæs  martinal@si... 2016-11-21  Merge pull request... \n",
      "2b56e31 213d30e 6c89d8a Martin Sandve Alnæs  martinal@si... 2016-11-21  Merge pull request... \n",
      "213d30e 6140d23 cea73a8 Martin Sandve Alnæs  martinal@si... 2016-11-18  Merge pull request... \n",
      "6140d23 3723b53 22b4a75 Min RK               benjaminrk@... 2016-11-18  Merge pull request... \n",
      "3723b53 0aa5782 9f09c30 Min RK               benjaminrk@... 2016-11-18  Merge pull request... \n",
      "0aa5782 753135a 2dabe94 Martin Sandve Alnæs  martinal@si... 2016-11-17  Merge pull request... \n",
      "753135a f8767b7 da94885 Martin Sandve Alnæs  martinal@si... 2016-11-16  Merge pull request... \n",
      "f8767b7 2fd4a9e 5908bc7 Vidar Tonaas Fauske  vidartf@gma... 2016-11-16  Merge pull request... \n",
      "2fd4a9e 48e2c13 f05d07a Martin Sandve Alnæs  martinal@si... 2016-11-14  Merge pull request... \n",
      "48e2c13 c4df69b 39658f8 Martin Sandve Alnæs  martinal@si... 2016-11-14  Merge pull request... \n",
      "c4df69b 6a04033 114fed8 Martin Sandve Alnæs  martinal@si... 2016-11-14  Merge pull request... \n",
      "6a04033 9f43c3d 8be67b9 Martin Sandve Alnæs  martinal@si... 2016-11-11  Merge pull request... \n",
      "9f43c3d a5e1f72 e2fc76b Martin Sandve Alnæs  martinal@si... 2016-11-09  Merge pull request... \n",
      "e2fc76b ce1f7a5 a5e1f72 Vidar Tonaas Fauske  vidartf@gma... 2016-11-09  Merge branch 'mast... \n",
      "a5e1f72 43eca25 176c52d Martin Sandve Alnæs  martinal@si... 2016-11-09  Merge pull request... \n",
      "43eca25 c21cab3 32e44e8 Martin Sandve Alnæs  martinal@si... 2016-11-08  Merge pull request... \n",
      "c21cab3 35b7608 f764cc3 Martin Sandve Alnæs  martinal@si... 2016-11-08  Merge pull request... \n",
      "35b7608 db46402 22e6245 Vidar Tonaas Fauske  vidartf@gma... 2016-11-07  Merge pull request... \n",
      "db46402 8792ab4 0494548 Martin Sandve Alnæs  martinal@si... 2016-10-31  Merge pull request... \n",
      "8792ab4 e93a97f 1f47ad4 Martin Sandve Alnæs  martinal@si... 2016-10-31  Merge pull request... \n",
      "e93a97f e3e5f44 1cf12b9 Martin Sandve Alnæs  martinal@si... 2016-10-31  Merge pull request... \n",
      "e3e5f44 39f146f 7acc1ed Vidar Tonaas Fauske  vidartf@gma... 2016-10-31  Merge pull request... \n",
      "39f146f f6884b0 973abd4 Martin Sandve Alnæs  martinal@si... 2016-10-31  Merge pull request... \n",
      "f6884b0 a57e4e3 e5a7e99 Vidar Tonaas Fauske  vidartf@gma... 2016-10-31  Merge pull request... \n",
      "f1a348e 31e286d f173c75 Vidar Tonaas Fauske  vidartf@gma... 2016-10-27  Merge pull request... \n",
      "31e286d acc356a 47d47c5 Martin Sandve Alnæs  martinal@si... 2016-10-26  Merge pull request... \n",
      "acc356a 481b2cd 4a82e4b Martin Sandve Alnæs  martinal@si... 2016-10-24  Merge pull request... \n",
      "481b2cd 14ed831 cd5bb48 Min RK               benjaminrk@... 2016-10-18  Merge pull request... \n",
      "14ed831 5a6ba9b bdb52f9 Martin Sandve Alnæs  martinal@si... 2016-10-17  Merge pull request... \n",
      "5a6ba9b e4af609 4df994c Vidar Tonaas Fauske  vidartf@gma... 2016-10-17  Merge pull request... \n",
      "e4af609 4e03e16 ca9b913 Martin Sandve Alnæs  martinal@si... 2016-10-14  Merge pull request... \n",
      "4e03e16 c9ffa9c 8f22f4f Martin Sandve Alnæs  martinal@si... 2016-10-14  Merge pull request... \n",
      "c9ffa9c 4136c51 4f0d1db Martin Sandve Alnæs  martinal@si... 2016-10-14  Merge pull request... \n",
      "4136c51 da17b37 6806b3c Martin Sandve Alnæs  martinal@si... 2016-10-14  Merge pull request... \n",
      "da17b37 8501759 c211091 Martin Sandve Alnæs  martinal@si... 2016-10-10  Merge pull request... \n",
      "8501759 48e865b e71bfee Martin Sandve Alnæs  martinal@si... 2016-10-10  Merge pull request... \n",
      "48e865b b9eca71 6586f20 Martin Sandve Alnæs  martinal@si... 2016-10-10  Merge pull request... \n",
      "b9eca71 89974ba d0954fa Min RK               benjaminrk@... 2016-10-07  Merge pull request... \n",
      "89974ba 618b233 d956efd Vidar Tonaas Fauske  vidartf@gma... 2016-10-05  Merge pull request... \n",
      "2bed9bb 9824304 e40a88b Martin Sandve Alnæs  martinal@si... 2016-10-04  Merge pull request... \n",
      "9824304 88acecf dc14211 Martin Sandve Alnæs  martinal@si... 2016-09-27  Merge pull request... \n",
      "88acecf fe87b7a 4fe2a23 Martin Sandve Alnæs  martinal@si... 2016-09-23  Merge pull request... \n",
      "fe87b7a ce4583a cb5275c Martin Sandve Alnæs  martinal@si... 2016-09-23  Merge pull request... \n",
      "ce4583a b94db84 fe72eb4 Martin Sandve Alnæs  martinal@si... 2016-09-23  Merge pull request... \n",
      "b94db84 d24fe80 4b4c358 Martin Sandve Alnæs  martinal@si... 2016-09-12  Merge pull request... \n",
      "d24fe80 4e75c5a bd14f06 Martin Sandve Alnæs  martinal@si... 2016-08-29  Merge pull request... \n",
      "4e75c5a 90ede10 41a95d2 Min RK               benjaminrk@... 2016-07-27  Merge pull request... \n",
      "90ede10 b6b9876 bcd6141 Min RK               benjaminrk@... 2016-07-27  Merge pull request... \n",
      "b6b9876 767c7c2 32bafb5 Martin Sandve Alnæs  martinal@si... 2016-07-27  Merge pull request... \n",
      "767c7c2 84bb398 c4a5cc0 Martin Sandve Alnæs  martinal@si... 2016-07-26  Merge pull request... \n",
      "84bb398 37a15fe 9033e8a Min RK               benjaminrk@... 2016-07-26  Merge pull request... \n",
      "37a15fe ed9023a 2935e8b Min RK               benjaminrk@... 2016-07-25  Merge pull request... \n",
      "b3343f9 8ff220d 845c477 Min RK               benjaminrk@... 2016-07-15  Merge pull request... \n",
      "e387105 55adbce a8650be Min RK               benjaminrk@... 2016-07-15  Merge pull request... \n",
      "55adbce 633fe82 15c6740 Min RK               benjaminrk@... 2016-07-14  Merge pull request... \n",
      "633fe82 d1952dc 754f57b Min RK               benjaminrk@... 2016-07-14  Merge pull request... \n",
      "d1952dc 6691bfc 7e4d860 Min RK               benjaminrk@... 2016-07-14  Merge pull request... \n",
      "6691bfc 0d57ff7 9c6830a Min RK               benjaminrk@... 2016-07-14  Merge pull request... \n",
      "a8fce37 3fd06d8 d390fef Min RK               benjaminrk@... 2016-07-14  Merge pull request... \n",
      "0d9469d 312418e 8662fe3 Min RK               benjaminrk@... 2016-07-14  Merge pull request... \n",
      "312418e 5044f27 18814a6 Min RK               benjaminrk@... 2016-07-14  Merge pull request... \n",
      "5044f27 7fcd5b2 fecb37f Min RK               benjaminrk@... 2016-07-13  Merge pull request... \n",
      "015483b dcd6c22 038689b Vidar Tonaas Fauske  vidartf@gma... 2016-07-07  Merge remote-track... \n",
      "b91fc89 9473ab1 7fcd5b2 Vidar Tonaas Fauske  vidartf@gma... 2016-07-07  Merge remote-track... \n",
      "7fcd5b2 a3504cb d3694eb Min RK               benjaminrk@... 2016-05-11  Merge pull request... \n",
      "a3504cb b363220 fde642d Min RK               benjaminrk@... 2016-05-04  Merge pull request... \n",
      "b363220 614882b f6f80ac Min RK               benjaminrk@... 2016-05-04  Merge pull request... \n",
      "614882b 2e6aba7 1b0320c Min RK               benjaminrk@... 2016-05-04  Merge pull request... \n",
      "2e6aba7 9a2d724 d54c67f Min RK               benjaminrk@... 2016-05-04  Merge pull request... \n",
      "cc31347 a0303a4 ebd3f33 Min RK               benjaminrk@... 2016-04-21  Merge pull request... \n",
      "a0303a4 912ee20 3fefdc8 Min RK               benjaminrk@... 2016-04-18  Merge pull request... \n",
      "912ee20 f173d83 d5312de Carol Willing        carolcode@w... 2016-04-17  Merge pull request... \n",
      "f173d83 d15e6fd 8e67844 Martin Sandve Alnæs  martinal@si... 2016-04-15  Merge pull request... \n",
      "d15e6fd cc37433 149ddce Min RK               benjaminrk@... 2016-03-22  Merge pull request... \n",
      "bc2bbfc 715eb15 f14e094 Min RK               benjaminrk@... 2016-03-21  Merge pull request... \n",
      "6660a4a 72fc51f d60af42 Martin Sandve Alnæs  martinal@si... 2016-03-15  Merge pull request... \n",
      "72fc51f fbcb81f dc2407b Min RK               benjaminrk@... 2016-03-12  Merge pull request... \n",
      "fbcb81f 5af7f14 0a8e244 Martin Sandve Alnæs  martinal@si... 2016-03-08  Merge pull request... \n",
      "5af7f14 24a29c2 f95b939 Martin Sandve Alnæs  martinal@si... 2016-03-08  Merge pull request... \n",
      "24a29c2 c261edd 88f0961 Martin Sandve Alnæs  martinal@si... 2016-03-08  Merge pull request... \n",
      "c261edd d20e604 7164a48 Martin Sandve Alnæs  martinal@si... 2016-03-08  Merge pull request... \n",
      "d20e604 91318f6 1333a20 Martin Sandve Alnæs  martinal@si... 2016-03-07  Merge pull request... \n",
      "91318f6 dc6604c 32ec755 Martin Sandve Alnæs  martinal@si... 2016-02-23  Merge pull request... \n",
      "dc6604c 7ae62b8 0d9e8ce Min RK               benjaminrk@... 2016-02-22  Merge pull request... \n",
      "f87fb2e                 Martin Sandve Alnæs  martinal@si... 2015-11-09  Initial commit, fr... CONTRIBUTING.md,\n"
     ]
    }
   ],
   "source": [
    "# YOUR CODE HERE\n",
    "print(f\"{'Id':7} {'ParentIds':15} {'AuthorName:':20} {'AuthorEmail':14}\\\n",
    "{'AuthorDate':11} {'Subject':21} {'ChangedFiles':20}\")\n",
    "for i in range(len(cols['Id'])):\n",
    "    if cols['ParentIds'][i] == '' or cols['ChangedFiles'][i] == '' :\n",
    "        print(f\"{cols['Id'][i]:7} {cols['ParentIds'][i]:15} {cols['AuthorName'][i]:20} {cols['AuthorEmail'][i][:11] + '...':14} {str(cols['AuthorDate'][i])[:11]:11} {cols['Subject'][i][:18] +'...':21} {cols['ChangedFiles'][i][:16]}\")"
   ]
  },
  {
   "cell_type": "markdown",
   "id": "ca19961d",
   "metadata": {
    "deletable": false,
    "nbgrader": {
     "cell_type": "markdown",
     "checksum": "0f5fa9e719dcc6a28b1a0ad666d3c0a9",
     "grade": true,
     "grade_id": "cell-0ce04cd6c1dd7a31",
     "locked": false,
     "points": 0.25,
     "schema_version": 3,
     "solution": true,
     "task": false
    }
   },
   "source": [
    "YOUR ANSWER HERE\n",
    "\n",
    "Ta thấy những dòng có giá trị thiếu thì `Subject`  thường là \"Merge pull request ...\", \"Merge branch ...\". Có 1 dòng có giá trị thiếu ở cột `ParentIds` là commmit đầu tiên nên không có giá trị ParentIds"
   ]
  },
  {
   "cell_type": "markdown",
   "id": "25216783",
   "metadata": {},
   "source": [
    "---"
   ]
  },
  {
   "cell_type": "markdown",
   "id": "fe3dabe3",
   "metadata": {},
   "source": [
    "## Đưa ra câu hỏi có ý nghĩa cần trả lời"
   ]
  },
  {
   "cell_type": "markdown",
   "id": "d1520b4a",
   "metadata": {},
   "source": [
    "Sau khi khám phá dữ liệu, ta đã hiểu hơn về dữ liệu. Bây giờ, ta hãy xem thử có câu hỏi nào có ý nghĩa mà có thể được trả lời bằng dữ liệu này không.\n",
    "\n",
    "Các câu hỏi có thể có là: \n",
    "- *Câu hỏi 1: trong năm 2021, ai là người có nhiều commit nhất, ai là người có nhiều commit nhì, ...?* \\\n",
    "Tìm câu trả lời cho câu hỏi này để làm gì? \\\n",
    "Hmm ... Chẳng hạn để khen thưởng\n",
    "- *Câu hỏi 2: commit nào là commit cuối cùng đã thay đổi file \"nbdime/webapp/templates/difftool.html\"?* \\\n",
    "Tìm câu trả lời cho câu hỏi này để làm gì? \\\n",
    "Hmm ... Chẳng hạn để đổ tội cho tác giả của commit đó ;-)"
   ]
  },
  {
   "cell_type": "markdown",
   "id": "0d47d93c",
   "metadata": {},
   "source": [
    "---"
   ]
  },
  {
   "cell_type": "markdown",
   "id": "2d750ba6",
   "metadata": {},
   "source": [
    "## Tiền xử lý (nếu cần) + phân tích dữ liệu để trả lời cho câu hỏi 1 (1đ)"
   ]
  },
  {
   "cell_type": "markdown",
   "id": "40e1b030",
   "metadata": {},
   "source": [
    "Nhắc lại câu hỏi 1: *trong năm 2021, ai là người có nhiều commit nhất, ai là người có nhiều commit nhì, ...?*\n",
    "\n",
    "Bạn sẽ lưu kết quả vào biến `wanted_people`. Biến này là một dictionary, mỗi phần tử ứng với một người mà có commit trong năm 2021, key là tên của người đó, value là số lượng commit của người đó. Dictionary này được sort theo value giảm dần."
   ]
  },
  {
   "cell_type": "code",
   "execution_count": 18,
   "id": "25f0299a",
   "metadata": {
    "deletable": false,
    "nbgrader": {
     "cell_type": "code",
     "checksum": "164597dfc4cff18b22014680c9345b6e",
     "grade": false,
     "grade_id": "cell-a40eed2ac02f6c2b",
     "locked": false,
     "schema_version": 3,
     "solution": true,
     "task": false
    }
   },
   "outputs": [],
   "source": [
    "# YOUR CODE HERE\n",
    "wanted_people = {}\n",
    "for i in range(len(cols['Id'])):\n",
    "    if cols['AuthorDate'][i].replace(tzinfo=None) >= datetime.datetime.strptime(\"2021/01/01\", \"%Y/%m/%d\") \\\n",
    "    and cols['AuthorDate'][i].replace(tzinfo=None) <= datetime.datetime.strptime(\"2021/12/31\", \"%Y/%m/%d\"):\n",
    "        if cols['AuthorName'][i] not in wanted_people.keys():\n",
    "            wanted_people[cols['AuthorName'][i]] = 1\n",
    "        else:\n",
    "            wanted_people[cols['AuthorName'][i]] = wanted_people[cols['AuthorName'][i]] + 1"
   ]
  },
  {
   "cell_type": "code",
   "execution_count": 19,
   "id": "edeeef7c",
   "metadata": {
    "deletable": false,
    "editable": false,
    "nbgrader": {
     "cell_type": "code",
     "checksum": "a7294256d2ff774d1305360568b58d73",
     "grade": true,
     "grade_id": "cell-9e312d16b92a0e40",
     "locked": true,
     "points": 1,
     "schema_version": 3,
     "solution": false,
     "task": false
    }
   },
   "outputs": [],
   "source": [
    "# TEST\n",
    "correct_wanted_people = {'Vidar Tonaas Fauske': 26, \n",
    "                         'Alex Bozarth': 9, \n",
    "                         'Frederic COLLONVAL': 7, \n",
    "                         'Frédéric Collonval': 6, \n",
    "                         'krassowski': 2, \n",
    "                         'Michał Krassowski': 2}\n",
    "assert wanted_people == correct_wanted_people"
   ]
  },
  {
   "cell_type": "markdown",
   "id": "6d6d98d5",
   "metadata": {},
   "source": [
    "---"
   ]
  },
  {
   "cell_type": "markdown",
   "id": "9e0fc1e1",
   "metadata": {},
   "source": [
    "## Tiền xử lý (nếu cần) + phân tích dữ liệu để trả lời cho câu hỏi 2 (2đ)"
   ]
  },
  {
   "cell_type": "markdown",
   "id": "174366cd",
   "metadata": {},
   "source": [
    "Nhắc lại câu hỏi 2: *commit nào là commit cuối cùng đã thay đổi file \"nbdime/webapp/templates/difftool.html\"?*\n",
    "\n",
    "Ta thống nhất: không xét các commit \"merge pull request\" vì các commit này không có thông tin về \"ChangedFiles\".\n",
    "\n",
    "Bạn lưu kết quả vào biến `wanted_commit`. Biến này là một dictionary, trong đó mỗi phần tử ứng với một thông tin của commit, key là tên cột, value là giá trị tương ứng."
   ]
  },
  {
   "cell_type": "code",
   "execution_count": 20,
   "id": "e21d69e4",
   "metadata": {
    "deletable": false,
    "nbgrader": {
     "cell_type": "code",
     "checksum": "e6cbf3fcba915f428f1ac9b6f208e6ef",
     "grade": false,
     "grade_id": "cell-37a6a90f597ad4a1",
     "locked": false,
     "schema_version": 3,
     "solution": true,
     "task": false
    }
   },
   "outputs": [],
   "source": [
    "# YOUR CODE HERE\n",
    "wanted_commit = {}\n",
    "date = {}\n",
    "for i in range(len(cols['Id'])):\n",
    "    if \"nbdime/webapp/templates/difftool.html\" in cols['ChangedFiles'][i]:       \n",
    "        date[cols['AuthorDate'][i]] = i\n",
    "        \n",
    "index=date[max(date)]\n",
    "\n",
    "wanted_commit['Id'] = cols['Id'][index]\n",
    "wanted_commit['ParentIds'] = cols['ParentIds'][index]\n",
    "wanted_commit['AuthorName'] = cols['AuthorName'][index]\n",
    "wanted_commit['AuthorEmail'] = cols['AuthorEmail'][index]\n",
    "wanted_commit['AuthorDate'] = cols['AuthorDate'][index]\n",
    "wanted_commit['Subject'] = cols['Subject'][index]\n",
    "wanted_commit['ChangedFiles'] = cols['ChangedFiles'][index]"
   ]
  },
  {
   "cell_type": "code",
   "execution_count": 21,
   "id": "39796468",
   "metadata": {
    "deletable": false,
    "editable": false,
    "nbgrader": {
     "cell_type": "code",
     "checksum": "916a7ddb9a0120cadf1501a14a675d3e",
     "grade": true,
     "grade_id": "cell-41c49732faf571f7",
     "locked": true,
     "points": 2,
     "schema_version": 3,
     "solution": false,
     "task": false
    }
   },
   "outputs": [],
   "source": [
    "# TEST\n",
    "correct_wanted_commit = {\\\n",
    "    'Id': 'be0b5ee',\n",
    "    'ParentIds': '4226179',\n",
    "    'AuthorName': 'Vidar Tonaas Fauske',\n",
    "    'AuthorEmail': 'vidartf@gmail.com',\n",
    "    'AuthorDate': datetime.datetime(2017, 7, 4, 22, 53, 9, tzinfo=datetime.timezone(datetime.timedelta(seconds=7200))),\n",
    "    'Subject': 'jinja2 templates + avoid name collisions with nb',\n",
    "    'ChangedFiles': 'nbdime/webapp/nbdimeserver.py,nbdime/webapp/templates/compare.html,nbdime/webapp/templates/diff.html,nbdime/webapp/templates/difftool.html,nbdime/webapp/templates/merge.html,nbdime/webapp/templates/mergetool.html,nbdime/webapp/templates/nbdimepage.html,setup.py'\\\n",
    "}\n",
    "assert wanted_commit == correct_wanted_commit"
   ]
  }
 ],
 "metadata": {
  "kernelspec": {
   "display_name": "Python 3",
   "language": "python",
   "name": "python3"
  },
  "language_info": {
   "codemirror_mode": {
    "name": "ipython",
    "version": 3
   },
   "file_extension": ".py",
   "mimetype": "text/x-python",
   "name": "python",
   "nbconvert_exporter": "python",
   "pygments_lexer": "ipython3",
   "version": "3.8.8"
  },
  "toc": {
   "base_numbering": 1,
   "nav_menu": {},
   "number_sections": false,
   "sideBar": true,
   "skip_h1_title": true,
   "title_cell": "Table of Contents",
   "title_sidebar": "Contents",
   "toc_cell": false,
   "toc_position": {
    "height": "calc(100% - 180px)",
    "left": "10px",
    "top": "150px",
    "width": "165px"
   },
   "toc_section_display": true,
   "toc_window_display": false
  }
 },
 "nbformat": 4,
 "nbformat_minor": 5
}
